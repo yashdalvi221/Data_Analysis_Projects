{
 "cells": [
  {
   "cell_type": "code",
   "execution_count": 29,
   "metadata": {},
   "outputs": [],
   "source": [
    "import pandas as pd\n",
    "import numpy as np"
   ]
  },
  {
   "cell_type": "code",
   "execution_count": 30,
   "metadata": {},
   "outputs": [],
   "source": [
    "import matplotlib.pyplot as plt"
   ]
  },
  {
   "cell_type": "code",
   "execution_count": 101,
   "metadata": {},
   "outputs": [],
   "source": [
    "plt.style.use('seaborn-pastel')"
   ]
  },
  {
   "cell_type": "markdown",
   "metadata": {},
   "source": [
    "data-link(kaggle): https://www.kaggle.com/prakrutchauhan/indian-candidates-for-general-election-2019"
   ]
  },
  {
   "cell_type": "code",
   "execution_count": 3,
   "metadata": {},
   "outputs": [
    {
     "data": {
      "text/html": [
       "<style type = 'text/css'>\n",
       "table.dataframe td, table.dataframe th{\n",
       "    border: 1px black solid !important;\n",
       "    color: black !important;\n",
       "}\n"
      ],
      "text/plain": [
       "<IPython.core.display.HTML object>"
      ]
     },
     "metadata": {},
     "output_type": "display_data"
    }
   ],
   "source": [
    "%%HTML\n",
    "<style type = 'text/css'>\n",
    "table.dataframe td, table.dataframe th{\n",
    "    border: 1px black solid !important;\n",
    "    color: black !important;\n",
    "}"
   ]
  },
  {
   "cell_type": "code",
   "execution_count": 4,
   "metadata": {},
   "outputs": [],
   "source": [
    "df_with_NOTA = pd.read_csv('LS_2.0.csv')"
   ]
  },
  {
   "cell_type": "code",
   "execution_count": 31,
   "metadata": {},
   "outputs": [
    {
     "name": "stdout",
     "output_type": "stream",
     "text": [
      "<class 'pandas.core.frame.DataFrame'>\n",
      "RangeIndex: 2263 entries, 0 to 2262\n",
      "Data columns (total 19 columns):\n",
      " #   Column                                   Non-Null Count  Dtype  \n",
      "---  ------                                   --------------  -----  \n",
      " 0   STATE                                    2263 non-null   object \n",
      " 1   CONSTITUENCY                             2263 non-null   object \n",
      " 2   NAME                                     2263 non-null   object \n",
      " 3   WINNER                                   2263 non-null   int64  \n",
      " 4   PARTY                                    2263 non-null   object \n",
      " 5   SYMBOL                                   2018 non-null   object \n",
      " 6   GENDER                                   2018 non-null   object \n",
      " 7   CRIMINAL CASES                           2018 non-null   object \n",
      " 8   AGE                                      2018 non-null   float64\n",
      " 9   CATEGORY                                 2018 non-null   object \n",
      " 10  EDUCATION                                2018 non-null   object \n",
      " 11  ASSETS                                   2018 non-null   object \n",
      " 12  LIABILITIES                              2018 non-null   object \n",
      " 13  GENERAL VOTES                            2263 non-null   int64  \n",
      " 14  POSTAL VOTES                             2263 non-null   int64  \n",
      " 15  TOTAL VOTES                              2263 non-null   int64  \n",
      " 16  OVER TOTAL ELECTORS IN CONSTITUENCY      2263 non-null   float64\n",
      " 17  OVER TOTAL VOTES POLLED IN CONSTITUENCY  2263 non-null   float64\n",
      " 18  TOTAL ELECTORS                           2263 non-null   int64  \n",
      "dtypes: float64(3), int64(5), object(11)\n",
      "memory usage: 336.0+ KB\n"
     ]
    }
   ],
   "source": [
    "df_with_NOTA.info()"
   ]
  },
  {
   "cell_type": "code",
   "execution_count": 32,
   "metadata": {},
   "outputs": [
    {
     "data": {
      "text/html": [
       "<div>\n",
       "<style scoped>\n",
       "    .dataframe tbody tr th:only-of-type {\n",
       "        vertical-align: middle;\n",
       "    }\n",
       "\n",
       "    .dataframe tbody tr th {\n",
       "        vertical-align: top;\n",
       "    }\n",
       "\n",
       "    .dataframe thead th {\n",
       "        text-align: right;\n",
       "    }\n",
       "</style>\n",
       "<table border=\"1\" class=\"dataframe\">\n",
       "  <thead>\n",
       "    <tr style=\"text-align: right;\">\n",
       "      <th></th>\n",
       "      <th>STATE</th>\n",
       "      <th>CONSTITUENCY</th>\n",
       "      <th>NAME</th>\n",
       "      <th>WINNER</th>\n",
       "      <th>PARTY</th>\n",
       "      <th>SYMBOL</th>\n",
       "      <th>GENDER</th>\n",
       "      <th>CRIMINAL CASES</th>\n",
       "      <th>AGE</th>\n",
       "      <th>CATEGORY</th>\n",
       "      <th>EDUCATION</th>\n",
       "      <th>ASSETS</th>\n",
       "      <th>LIABILITIES</th>\n",
       "      <th>GENERAL VOTES</th>\n",
       "      <th>POSTAL VOTES</th>\n",
       "      <th>TOTAL VOTES</th>\n",
       "      <th>OVER TOTAL ELECTORS IN CONSTITUENCY</th>\n",
       "      <th>OVER TOTAL VOTES POLLED IN CONSTITUENCY</th>\n",
       "      <th>TOTAL ELECTORS</th>\n",
       "    </tr>\n",
       "  </thead>\n",
       "  <tbody>\n",
       "    <tr>\n",
       "      <th>0</th>\n",
       "      <td>Telangana</td>\n",
       "      <td>ADILABAD</td>\n",
       "      <td>SOYAM BAPU RAO</td>\n",
       "      <td>1</td>\n",
       "      <td>BJP</td>\n",
       "      <td>Lotus</td>\n",
       "      <td>MALE</td>\n",
       "      <td>52</td>\n",
       "      <td>52.0</td>\n",
       "      <td>ST</td>\n",
       "      <td>12th Pass</td>\n",
       "      <td>Rs 30,99,414\\n ~ 30 Lacs+</td>\n",
       "      <td>Rs 2,31,450\\n ~ 2 Lacs+</td>\n",
       "      <td>376892</td>\n",
       "      <td>482</td>\n",
       "      <td>377374</td>\n",
       "      <td>25.330684</td>\n",
       "      <td>35.468248</td>\n",
       "      <td>1489790</td>\n",
       "    </tr>\n",
       "    <tr>\n",
       "      <th>1</th>\n",
       "      <td>Telangana</td>\n",
       "      <td>ADILABAD</td>\n",
       "      <td>Godam Nagesh</td>\n",
       "      <td>0</td>\n",
       "      <td>TRS</td>\n",
       "      <td>Car</td>\n",
       "      <td>MALE</td>\n",
       "      <td>0</td>\n",
       "      <td>54.0</td>\n",
       "      <td>ST</td>\n",
       "      <td>Post Graduate</td>\n",
       "      <td>Rs 1,84,77,888\\n ~ 1 Crore+</td>\n",
       "      <td>Rs 8,47,000\\n ~ 8 Lacs+</td>\n",
       "      <td>318665</td>\n",
       "      <td>149</td>\n",
       "      <td>318814</td>\n",
       "      <td>21.399929</td>\n",
       "      <td>29.964370</td>\n",
       "      <td>1489790</td>\n",
       "    </tr>\n",
       "    <tr>\n",
       "      <th>2</th>\n",
       "      <td>Telangana</td>\n",
       "      <td>ADILABAD</td>\n",
       "      <td>RATHOD RAMESH</td>\n",
       "      <td>0</td>\n",
       "      <td>INC</td>\n",
       "      <td>Hand</td>\n",
       "      <td>MALE</td>\n",
       "      <td>3</td>\n",
       "      <td>52.0</td>\n",
       "      <td>ST</td>\n",
       "      <td>12th Pass</td>\n",
       "      <td>Rs 3,64,91,000\\n ~ 3 Crore+</td>\n",
       "      <td>Rs 1,53,00,000\\n ~ 1 Crore+</td>\n",
       "      <td>314057</td>\n",
       "      <td>181</td>\n",
       "      <td>314238</td>\n",
       "      <td>21.092771</td>\n",
       "      <td>29.534285</td>\n",
       "      <td>1489790</td>\n",
       "    </tr>\n",
       "    <tr>\n",
       "      <th>3</th>\n",
       "      <td>Telangana</td>\n",
       "      <td>ADILABAD</td>\n",
       "      <td>NOTA</td>\n",
       "      <td>0</td>\n",
       "      <td>NOTA</td>\n",
       "      <td>NaN</td>\n",
       "      <td>NaN</td>\n",
       "      <td>NaN</td>\n",
       "      <td>NaN</td>\n",
       "      <td>NaN</td>\n",
       "      <td>NaN</td>\n",
       "      <td>NaN</td>\n",
       "      <td>NaN</td>\n",
       "      <td>13030</td>\n",
       "      <td>6</td>\n",
       "      <td>13036</td>\n",
       "      <td>0.875023</td>\n",
       "      <td>1.225214</td>\n",
       "      <td>1489790</td>\n",
       "    </tr>\n",
       "    <tr>\n",
       "      <th>4</th>\n",
       "      <td>Uttar Pradesh</td>\n",
       "      <td>AGRA</td>\n",
       "      <td>Satyapal Singh Baghel</td>\n",
       "      <td>1</td>\n",
       "      <td>BJP</td>\n",
       "      <td>Lotus</td>\n",
       "      <td>MALE</td>\n",
       "      <td>5</td>\n",
       "      <td>58.0</td>\n",
       "      <td>SC</td>\n",
       "      <td>Doctorate</td>\n",
       "      <td>Rs 7,42,74,036\\n ~ 7 Crore+</td>\n",
       "      <td>Rs 86,06,522\\n ~ 86 Lacs+</td>\n",
       "      <td>644459</td>\n",
       "      <td>2416</td>\n",
       "      <td>646875</td>\n",
       "      <td>33.383823</td>\n",
       "      <td>56.464615</td>\n",
       "      <td>1937690</td>\n",
       "    </tr>\n",
       "  </tbody>\n",
       "</table>\n",
       "</div>"
      ],
      "text/plain": [
       "           STATE CONSTITUENCY                   NAME  WINNER PARTY SYMBOL  \\\n",
       "0      Telangana     ADILABAD         SOYAM BAPU RAO       1   BJP  Lotus   \n",
       "1      Telangana     ADILABAD           Godam Nagesh       0   TRS    Car   \n",
       "2      Telangana     ADILABAD          RATHOD RAMESH       0   INC   Hand   \n",
       "3      Telangana     ADILABAD                   NOTA       0  NOTA    NaN   \n",
       "4  Uttar Pradesh         AGRA  Satyapal Singh Baghel       1   BJP  Lotus   \n",
       "\n",
       "  GENDER CRIMINAL CASES   AGE CATEGORY      EDUCATION  \\\n",
       "0   MALE             52  52.0       ST      12th Pass   \n",
       "1   MALE              0  54.0       ST  Post Graduate   \n",
       "2   MALE              3  52.0       ST      12th Pass   \n",
       "3    NaN            NaN   NaN      NaN            NaN   \n",
       "4   MALE              5  58.0       SC      Doctorate   \n",
       "\n",
       "                        ASSETS                  LIABILITIES  GENERAL VOTES  \\\n",
       "0    Rs 30,99,414\\n ~ 30 Lacs+      Rs 2,31,450\\n ~ 2 Lacs+         376892   \n",
       "1  Rs 1,84,77,888\\n ~ 1 Crore+      Rs 8,47,000\\n ~ 8 Lacs+         318665   \n",
       "2  Rs 3,64,91,000\\n ~ 3 Crore+  Rs 1,53,00,000\\n ~ 1 Crore+         314057   \n",
       "3                          NaN                          NaN          13030   \n",
       "4  Rs 7,42,74,036\\n ~ 7 Crore+    Rs 86,06,522\\n ~ 86 Lacs+         644459   \n",
       "\n",
       "   POSTAL VOTES  TOTAL VOTES  OVER TOTAL ELECTORS IN CONSTITUENCY  \\\n",
       "0           482       377374                            25.330684   \n",
       "1           149       318814                            21.399929   \n",
       "2           181       314238                            21.092771   \n",
       "3             6        13036                             0.875023   \n",
       "4          2416       646875                            33.383823   \n",
       "\n",
       "   OVER TOTAL VOTES POLLED IN CONSTITUENCY  TOTAL ELECTORS  \n",
       "0                                35.468248         1489790  \n",
       "1                                29.964370         1489790  \n",
       "2                                29.534285         1489790  \n",
       "3                                 1.225214         1489790  \n",
       "4                                56.464615         1937690  "
      ]
     },
     "execution_count": 32,
     "metadata": {},
     "output_type": "execute_result"
    }
   ],
   "source": [
    "df_with_NOTA.head()"
   ]
  },
  {
   "cell_type": "code",
   "execution_count": 6,
   "metadata": {},
   "outputs": [
    {
     "data": {
      "text/plain": [
       "Index(['STATE', 'CONSTITUENCY', 'NAME', 'WINNER', 'PARTY', 'SYMBOL', 'GENDER',\n",
       "       'CRIMINAL\\nCASES', 'AGE', 'CATEGORY', 'EDUCATION', 'ASSETS',\n",
       "       'LIABILITIES', 'GENERAL\\nVOTES', 'POSTAL\\nVOTES', 'TOTAL\\nVOTES',\n",
       "       'OVER TOTAL ELECTORS \\nIN CONSTITUENCY',\n",
       "       'OVER TOTAL VOTES POLLED \\nIN CONSTITUENCY', 'TOTAL ELECTORS'],\n",
       "      dtype='object')"
      ]
     },
     "execution_count": 6,
     "metadata": {},
     "output_type": "execute_result"
    }
   ],
   "source": [
    "df_with_NOTA.columns"
   ]
  },
  {
   "cell_type": "markdown",
   "metadata": {},
   "source": [
    "> Cleaning the title of the columns "
   ]
  },
  {
   "cell_type": "code",
   "execution_count": 7,
   "metadata": {},
   "outputs": [],
   "source": [
    "df_with_NOTA.columns = ['STATE', 'CONSTITUENCY', 'NAME', 'WINNER', 'PARTY', 'SYMBOL', 'GENDER',\n",
    "       'CRIMINAL CASES', 'AGE', 'CATEGORY', 'EDUCATION', 'ASSETS',\n",
    "       'LIABILITIES', 'GENERAL VOTES', 'POSTAL VOTES', 'TOTAL VOTES',\n",
    "       'OVER TOTAL ELECTORS IN CONSTITUENCY',\n",
    "       'OVER TOTAL VOTES POLLED IN CONSTITUENCY', 'TOTAL ELECTORS']"
   ]
  },
  {
   "cell_type": "markdown",
   "metadata": {},
   "source": [
    "> We will be working with two versions of our data:-\n",
    "    1. The one without 'NOTA' entries.\n",
    "    2. The one with 'NOTA' entries.\n",
    "    \n",
    "`NOTA`: None of the above, where elector does chose any of the standing candidate."
   ]
  },
  {
   "cell_type": "code",
   "execution_count": 8,
   "metadata": {},
   "outputs": [],
   "source": [
    "df = df_with_NOTA.dropna(axis=0)"
   ]
  },
  {
   "cell_type": "code",
   "execution_count": 9,
   "metadata": {},
   "outputs": [
    {
     "data": {
      "text/html": [
       "<div>\n",
       "<style scoped>\n",
       "    .dataframe tbody tr th:only-of-type {\n",
       "        vertical-align: middle;\n",
       "    }\n",
       "\n",
       "    .dataframe tbody tr th {\n",
       "        vertical-align: top;\n",
       "    }\n",
       "\n",
       "    .dataframe thead th {\n",
       "        text-align: right;\n",
       "    }\n",
       "</style>\n",
       "<table border=\"1\" class=\"dataframe\">\n",
       "  <thead>\n",
       "    <tr style=\"text-align: right;\">\n",
       "      <th></th>\n",
       "      <th>STATE</th>\n",
       "      <th>CONSTITUENCY</th>\n",
       "      <th>NAME</th>\n",
       "      <th>WINNER</th>\n",
       "      <th>PARTY</th>\n",
       "      <th>SYMBOL</th>\n",
       "      <th>GENDER</th>\n",
       "      <th>CRIMINAL CASES</th>\n",
       "      <th>AGE</th>\n",
       "      <th>CATEGORY</th>\n",
       "      <th>EDUCATION</th>\n",
       "      <th>ASSETS</th>\n",
       "      <th>LIABILITIES</th>\n",
       "      <th>GENERAL VOTES</th>\n",
       "      <th>POSTAL VOTES</th>\n",
       "      <th>TOTAL VOTES</th>\n",
       "      <th>OVER TOTAL ELECTORS IN CONSTITUENCY</th>\n",
       "      <th>OVER TOTAL VOTES POLLED IN CONSTITUENCY</th>\n",
       "      <th>TOTAL ELECTORS</th>\n",
       "    </tr>\n",
       "  </thead>\n",
       "  <tbody>\n",
       "    <tr>\n",
       "      <th>0</th>\n",
       "      <td>Telangana</td>\n",
       "      <td>ADILABAD</td>\n",
       "      <td>SOYAM BAPU RAO</td>\n",
       "      <td>1</td>\n",
       "      <td>BJP</td>\n",
       "      <td>Lotus</td>\n",
       "      <td>MALE</td>\n",
       "      <td>52</td>\n",
       "      <td>52.0</td>\n",
       "      <td>ST</td>\n",
       "      <td>12th Pass</td>\n",
       "      <td>Rs 30,99,414\\n ~ 30 Lacs+</td>\n",
       "      <td>Rs 2,31,450\\n ~ 2 Lacs+</td>\n",
       "      <td>376892</td>\n",
       "      <td>482</td>\n",
       "      <td>377374</td>\n",
       "      <td>25.330684</td>\n",
       "      <td>35.468248</td>\n",
       "      <td>1489790</td>\n",
       "    </tr>\n",
       "    <tr>\n",
       "      <th>1</th>\n",
       "      <td>Telangana</td>\n",
       "      <td>ADILABAD</td>\n",
       "      <td>Godam Nagesh</td>\n",
       "      <td>0</td>\n",
       "      <td>TRS</td>\n",
       "      <td>Car</td>\n",
       "      <td>MALE</td>\n",
       "      <td>0</td>\n",
       "      <td>54.0</td>\n",
       "      <td>ST</td>\n",
       "      <td>Post Graduate</td>\n",
       "      <td>Rs 1,84,77,888\\n ~ 1 Crore+</td>\n",
       "      <td>Rs 8,47,000\\n ~ 8 Lacs+</td>\n",
       "      <td>318665</td>\n",
       "      <td>149</td>\n",
       "      <td>318814</td>\n",
       "      <td>21.399929</td>\n",
       "      <td>29.964370</td>\n",
       "      <td>1489790</td>\n",
       "    </tr>\n",
       "    <tr>\n",
       "      <th>2</th>\n",
       "      <td>Telangana</td>\n",
       "      <td>ADILABAD</td>\n",
       "      <td>RATHOD RAMESH</td>\n",
       "      <td>0</td>\n",
       "      <td>INC</td>\n",
       "      <td>Hand</td>\n",
       "      <td>MALE</td>\n",
       "      <td>3</td>\n",
       "      <td>52.0</td>\n",
       "      <td>ST</td>\n",
       "      <td>12th Pass</td>\n",
       "      <td>Rs 3,64,91,000\\n ~ 3 Crore+</td>\n",
       "      <td>Rs 1,53,00,000\\n ~ 1 Crore+</td>\n",
       "      <td>314057</td>\n",
       "      <td>181</td>\n",
       "      <td>314238</td>\n",
       "      <td>21.092771</td>\n",
       "      <td>29.534285</td>\n",
       "      <td>1489790</td>\n",
       "    </tr>\n",
       "    <tr>\n",
       "      <th>4</th>\n",
       "      <td>Uttar Pradesh</td>\n",
       "      <td>AGRA</td>\n",
       "      <td>Satyapal Singh Baghel</td>\n",
       "      <td>1</td>\n",
       "      <td>BJP</td>\n",
       "      <td>Lotus</td>\n",
       "      <td>MALE</td>\n",
       "      <td>5</td>\n",
       "      <td>58.0</td>\n",
       "      <td>SC</td>\n",
       "      <td>Doctorate</td>\n",
       "      <td>Rs 7,42,74,036\\n ~ 7 Crore+</td>\n",
       "      <td>Rs 86,06,522\\n ~ 86 Lacs+</td>\n",
       "      <td>644459</td>\n",
       "      <td>2416</td>\n",
       "      <td>646875</td>\n",
       "      <td>33.383823</td>\n",
       "      <td>56.464615</td>\n",
       "      <td>1937690</td>\n",
       "    </tr>\n",
       "    <tr>\n",
       "      <th>5</th>\n",
       "      <td>Uttar Pradesh</td>\n",
       "      <td>AGRA</td>\n",
       "      <td>Manoj Kumar Soni</td>\n",
       "      <td>0</td>\n",
       "      <td>BSP</td>\n",
       "      <td>Elephant</td>\n",
       "      <td>MALE</td>\n",
       "      <td>0</td>\n",
       "      <td>47.0</td>\n",
       "      <td>SC</td>\n",
       "      <td>Post Graduate</td>\n",
       "      <td>Rs 13,37,84,385\\n ~ 13 Crore+</td>\n",
       "      <td>Rs 2,22,51,891\\n ~ 2 Crore+</td>\n",
       "      <td>434199</td>\n",
       "      <td>1130</td>\n",
       "      <td>435329</td>\n",
       "      <td>22.466390</td>\n",
       "      <td>37.999125</td>\n",
       "      <td>1937690</td>\n",
       "    </tr>\n",
       "  </tbody>\n",
       "</table>\n",
       "</div>"
      ],
      "text/plain": [
       "           STATE CONSTITUENCY                   NAME  WINNER PARTY    SYMBOL  \\\n",
       "0      Telangana     ADILABAD         SOYAM BAPU RAO       1   BJP     Lotus   \n",
       "1      Telangana     ADILABAD           Godam Nagesh       0   TRS       Car   \n",
       "2      Telangana     ADILABAD          RATHOD RAMESH       0   INC      Hand   \n",
       "4  Uttar Pradesh         AGRA  Satyapal Singh Baghel       1   BJP     Lotus   \n",
       "5  Uttar Pradesh         AGRA       Manoj Kumar Soni       0   BSP  Elephant   \n",
       "\n",
       "  GENDER CRIMINAL CASES   AGE CATEGORY      EDUCATION  \\\n",
       "0   MALE             52  52.0       ST      12th Pass   \n",
       "1   MALE              0  54.0       ST  Post Graduate   \n",
       "2   MALE              3  52.0       ST      12th Pass   \n",
       "4   MALE              5  58.0       SC      Doctorate   \n",
       "5   MALE              0  47.0       SC  Post Graduate   \n",
       "\n",
       "                          ASSETS                  LIABILITIES  GENERAL VOTES  \\\n",
       "0      Rs 30,99,414\\n ~ 30 Lacs+      Rs 2,31,450\\n ~ 2 Lacs+         376892   \n",
       "1    Rs 1,84,77,888\\n ~ 1 Crore+      Rs 8,47,000\\n ~ 8 Lacs+         318665   \n",
       "2    Rs 3,64,91,000\\n ~ 3 Crore+  Rs 1,53,00,000\\n ~ 1 Crore+         314057   \n",
       "4    Rs 7,42,74,036\\n ~ 7 Crore+    Rs 86,06,522\\n ~ 86 Lacs+         644459   \n",
       "5  Rs 13,37,84,385\\n ~ 13 Crore+  Rs 2,22,51,891\\n ~ 2 Crore+         434199   \n",
       "\n",
       "   POSTAL VOTES  TOTAL VOTES  OVER TOTAL ELECTORS IN CONSTITUENCY  \\\n",
       "0           482       377374                            25.330684   \n",
       "1           149       318814                            21.399929   \n",
       "2           181       314238                            21.092771   \n",
       "4          2416       646875                            33.383823   \n",
       "5          1130       435329                            22.466390   \n",
       "\n",
       "   OVER TOTAL VOTES POLLED IN CONSTITUENCY  TOTAL ELECTORS  \n",
       "0                                35.468248         1489790  \n",
       "1                                29.964370         1489790  \n",
       "2                                29.534285         1489790  \n",
       "4                                56.464615         1937690  \n",
       "5                                37.999125         1937690  "
      ]
     },
     "execution_count": 9,
     "metadata": {},
     "output_type": "execute_result"
    }
   ],
   "source": [
    "df.head()"
   ]
  },
  {
   "cell_type": "code",
   "execution_count": 10,
   "metadata": {},
   "outputs": [],
   "source": [
    "#We should reset index as we have dropped NaN values\n",
    "df.reset_index(drop=True, inplace=True)"
   ]
  },
  {
   "cell_type": "markdown",
   "metadata": {},
   "source": [
    "### We will start EDA straightaway with each feature one by one."
   ]
  },
  {
   "cell_type": "markdown",
   "metadata": {},
   "source": [
    "#### Gender"
   ]
  },
  {
   "cell_type": "code",
   "execution_count": 13,
   "metadata": {},
   "outputs": [
    {
     "name": "stdout",
     "output_type": "stream",
     "text": [
      "TOTAL NO OF MALE CANDIDATES: 1760\n",
      "TOTAL NO OF FEMALE CANDIDATES: 258\n"
     ]
    },
    {
     "data": {
      "image/png": "[encoded data removed]",
      "text/plain": [
       "<Figure size 504x504 with 1 Axes>"
      ]
     },
     "metadata": {},
     "output_type": "display_data"
    }
   ],
   "source": [
    "colors = ['cornflowerblue','deeppink']\n",
    "\n",
    "fig, ax = plt.subplots(figsize=(7,7))\n",
    "\n",
    "ax.bar(df['GENDER'].unique(), df['GENDER'].value_counts(), color = colors)\n",
    "\n",
    "ax.set(xlabel = 'GENDER',\n",
    "       ylabel = 'CANDIDATES',\n",
    "       title = 'GENDER WISE CANDIDATES');\n",
    "\n",
    "print('TOTAL NO OF MALE CANDIDATES:',df['GENDER'].value_counts()[0])\n",
    "print('TOTAL NO OF FEMALE CANDIDATES:',df['GENDER'].value_counts()[1])"
   ]
  },
  {
   "cell_type": "markdown",
   "metadata": {},
   "source": [
    "#### POLITICAL PARTIES"
   ]
  },
  {
   "cell_type": "code",
   "execution_count": 14,
   "metadata": {},
   "outputs": [
    {
     "data": {
      "text/plain": [
       "BJP       420\n",
       "INC       413\n",
       "IND       201\n",
       "BSP       163\n",
       "CPI(M)    100\n",
       "VBA        47\n",
       "AITC       47\n",
       "Name: PARTY, dtype: int64"
      ]
     },
     "execution_count": 14,
     "metadata": {},
     "output_type": "execute_result"
    }
   ],
   "source": [
    "# Total number of parties \n",
    "#df['GENDER'].nunique() \n",
    "df['PARTY'].value_counts()[:7]"
   ]
  },
  {
   "cell_type": "markdown",
   "metadata": {},
   "source": [
    "> Top seven parties w.r.t number of candidates."
   ]
  },
  {
   "cell_type": "code",
   "execution_count": 12,
   "metadata": {},
   "outputs": [],
   "source": [
    "plt.style.use('fivethirtyeight')"
   ]
  },
  {
   "cell_type": "code",
   "execution_count": 15,
   "metadata": {},
   "outputs": [
    {
     "data": {
      "image/png": "[encoded data removed]",
      "text/plain": [
       "<Figure size 720x360 with 1 Axes>"
      ]
     },
     "metadata": {},
     "output_type": "display_data"
    }
   ],
   "source": [
    "colors = ['darkorange','aqua','gold','mediumblue','lightcoral','blue','springgreen']\n",
    "\n",
    "\n",
    "fig, ax = plt.subplots(figsize=(10,5))\n",
    "\n",
    "ax.bar(df['PARTY'].value_counts().index[:7],df['PARTY'].value_counts()[:7], color=colors)\n",
    "\n",
    "ax.set(xlabel = 'PARTY',\n",
    "       ylabel = 'NO. OF CANDIDATES',\n",
    "       title = 'TOP SEVEN PARTIES IN INDIA');\n"
   ]
  },
  {
   "cell_type": "markdown",
   "metadata": {},
   "source": [
    "#### CRIMINAL CASES"
   ]
  },
  {
   "cell_type": "code",
   "execution_count": 16,
   "metadata": {},
   "outputs": [
    {
     "data": {
      "text/plain": [
       "Int64Index([ 415,  472,  544,  545,  580,  582,  610,  864,  918,  933, 1000,\n",
       "            1162, 1495, 1509, 1526, 1724, 1756, 1763, 1845, 1951, 1983, 2005],\n",
       "           dtype='int64')"
      ]
     },
     "execution_count": 16,
     "metadata": {},
     "output_type": "execute_result"
    }
   ],
   "source": [
    "df[df['CRIMINAL CASES'] == 'Not Available'].index"
   ]
  },
  {
   "cell_type": "code",
   "execution_count": 28,
   "metadata": {},
   "outputs": [],
   "source": [
    "na_index = [ 468,  532,  612,  613,  654,  656,  688,  972, 1033, 1052, 1126,\n",
    "            1309, 1681, 1696, 1716, 1938, 1971, 1978, 2069, 2188, 2223, 2249]\n",
    "\n",
    "#for i in na_index:\n",
    "    #df['CRIMINAL CASES'][i] = None"
   ]
  },
  {
   "cell_type": "code",
   "execution_count": 147,
   "metadata": {},
   "outputs": [],
   "source": [
    "#df['CRIMINAL CASES'].dropna(axis=0, inplace=True)"
   ]
  },
  {
   "cell_type": "code",
   "execution_count": 151,
   "metadata": {},
   "outputs": [],
   "source": [
    "#df['CRIMINAL CASES'] = df['CRIMINAL CASES'].astype(int)\n",
    "# It is giving us a warning `SettingWithCopyWarning` as we are working on copy of original dataframe."
   ]
  },
  {
   "cell_type": "code",
   "execution_count": 206,
   "metadata": {},
   "outputs": [
    {
     "data": {
      "text/plain": [
       "array(['12th Pass', 'Post Graduate', 'Doctorate', 'Graduate', 'Others',\n",
       "       '10th Pass', '8th Pass', 'Graduate Professional', 'Literate',\n",
       "       'Illiterate', '5th Pass', 'Not Available'], dtype=object)"
      ]
     },
     "execution_count": 206,
     "metadata": {},
     "output_type": "execute_result"
    }
   ],
   "source": [
    "df['EDUCATION'].unique()"
   ]
  },
  {
   "cell_type": "code",
   "execution_count": 207,
   "metadata": {},
   "outputs": [],
   "source": [
    "df_tmp = df.groupby(by='EDUCATION').sum()"
   ]
  },
  {
   "cell_type": "code",
   "execution_count": 213,
   "metadata": {},
   "outputs": [],
   "source": [
    "plt.style.use('seaborn')"
   ]
  },
  {
   "cell_type": "code",
   "execution_count": 218,
   "metadata": {},
   "outputs": [
    {
     "data": {
      "image/png": "[encoded data removed]",
      "text/plain": [
       "<Figure size 640x440 with 1 Axes>"
      ]
     },
     "metadata": {},
     "output_type": "display_data"
    }
   ],
   "source": [
    "fig, ax = plt.subplots()\n",
    "\n",
    "ax.barh(df_tmp.index, df_tmp['CRIMINAL CASES'], color='skyblue')\n",
    "\n",
    "ax.set(xlabel = 'NO. OF CRIMINAL CASES',\n",
    "       ylabel = 'EDUCATION');"
   ]
  },
  {
   "cell_type": "code",
   "execution_count": 219,
   "metadata": {},
   "outputs": [
    {
     "data": {
      "text/html": [
       "<div>\n",
       "<style scoped>\n",
       "    .dataframe tbody tr th:only-of-type {\n",
       "        vertical-align: middle;\n",
       "    }\n",
       "\n",
       "    .dataframe tbody tr th {\n",
       "        vertical-align: top;\n",
       "    }\n",
       "\n",
       "    .dataframe thead th {\n",
       "        text-align: right;\n",
       "    }\n",
       "</style>\n",
       "<table border=\"1\" class=\"dataframe\">\n",
       "  <thead>\n",
       "    <tr style=\"text-align: right;\">\n",
       "      <th></th>\n",
       "      <th>WINNER</th>\n",
       "      <th>CRIMINAL CASES</th>\n",
       "      <th>AGE</th>\n",
       "      <th>GENERAL VOTES</th>\n",
       "      <th>POSTAL VOTES</th>\n",
       "      <th>TOTAL VOTES</th>\n",
       "      <th>OVER TOTAL ELECTORS IN CONSTITUENCY</th>\n",
       "      <th>OVER TOTAL VOTES POLLED IN CONSTITUENCY</th>\n",
       "      <th>TOTAL ELECTORS</th>\n",
       "    </tr>\n",
       "    <tr>\n",
       "      <th>EDUCATION</th>\n",
       "      <th></th>\n",
       "      <th></th>\n",
       "      <th></th>\n",
       "      <th></th>\n",
       "      <th></th>\n",
       "      <th></th>\n",
       "      <th></th>\n",
       "      <th></th>\n",
       "      <th></th>\n",
       "    </tr>\n",
       "  </thead>\n",
       "  <tbody>\n",
       "    <tr>\n",
       "      <th>10th Pass</th>\n",
       "      <td>45</td>\n",
       "      <td>265.0</td>\n",
       "      <td>10330.0</td>\n",
       "      <td>51558437</td>\n",
       "      <td>214375</td>\n",
       "      <td>51772812</td>\n",
       "      <td>3122.287210</td>\n",
       "      <td>4558.599681</td>\n",
       "      <td>324651691</td>\n",
       "    </tr>\n",
       "    <tr>\n",
       "      <th>12th Pass</th>\n",
       "      <td>69</td>\n",
       "      <td>480.0</td>\n",
       "      <td>12807.0</td>\n",
       "      <td>69924422</td>\n",
       "      <td>259554</td>\n",
       "      <td>70183976</td>\n",
       "      <td>4142.400392</td>\n",
       "      <td>6188.182289</td>\n",
       "      <td>428828388</td>\n",
       "    </tr>\n",
       "    <tr>\n",
       "      <th>5th Pass</th>\n",
       "      <td>4</td>\n",
       "      <td>28.0</td>\n",
       "      <td>1429.0</td>\n",
       "      <td>4179312</td>\n",
       "      <td>10263</td>\n",
       "      <td>4189575</td>\n",
       "      <td>281.405993</td>\n",
       "      <td>410.996779</td>\n",
       "      <td>45126163</td>\n",
       "    </tr>\n",
       "    <tr>\n",
       "      <th>8th Pass</th>\n",
       "      <td>12</td>\n",
       "      <td>88.0</td>\n",
       "      <td>3923.0</td>\n",
       "      <td>14493505</td>\n",
       "      <td>52421</td>\n",
       "      <td>14545926</td>\n",
       "      <td>849.553273</td>\n",
       "      <td>1257.115643</td>\n",
       "      <td>130778515</td>\n",
       "    </tr>\n",
       "    <tr>\n",
       "      <th>Doctorate</th>\n",
       "      <td>23</td>\n",
       "      <td>83.0</td>\n",
       "      <td>3963.0</td>\n",
       "      <td>22787263</td>\n",
       "      <td>90382</td>\n",
       "      <td>22877645</td>\n",
       "      <td>1356.035306</td>\n",
       "      <td>2023.592968</td>\n",
       "      <td>122685208</td>\n",
       "    </tr>\n",
       "    <tr>\n",
       "      <th>Graduate</th>\n",
       "      <td>132</td>\n",
       "      <td>930.0</td>\n",
       "      <td>23010.0</td>\n",
       "      <td>140928620</td>\n",
       "      <td>527628</td>\n",
       "      <td>141456248</td>\n",
       "      <td>8464.126013</td>\n",
       "      <td>12379.296900</td>\n",
       "      <td>738915879</td>\n",
       "    </tr>\n",
       "    <tr>\n",
       "      <th>Graduate Professional</th>\n",
       "      <td>99</td>\n",
       "      <td>263.0</td>\n",
       "      <td>18307.0</td>\n",
       "      <td>107365982</td>\n",
       "      <td>393609</td>\n",
       "      <td>107759591</td>\n",
       "      <td>6518.316909</td>\n",
       "      <td>9574.127962</td>\n",
       "      <td>554363053</td>\n",
       "    </tr>\n",
       "    <tr>\n",
       "      <th>Illiterate</th>\n",
       "      <td>1</td>\n",
       "      <td>1.0</td>\n",
       "      <td>274.0</td>\n",
       "      <td>808061</td>\n",
       "      <td>3267</td>\n",
       "      <td>811328</td>\n",
       "      <td>52.703600</td>\n",
       "      <td>77.167301</td>\n",
       "      <td>7463446</td>\n",
       "    </tr>\n",
       "    <tr>\n",
       "      <th>Literate</th>\n",
       "      <td>2</td>\n",
       "      <td>33.0</td>\n",
       "      <td>1563.0</td>\n",
       "      <td>3103177</td>\n",
       "      <td>13999</td>\n",
       "      <td>3117176</td>\n",
       "      <td>169.035177</td>\n",
       "      <td>293.701219</td>\n",
       "      <td>53341560</td>\n",
       "    </tr>\n",
       "    <tr>\n",
       "      <th>Not Available</th>\n",
       "      <td>0</td>\n",
       "      <td>0.0</td>\n",
       "      <td>1003.0</td>\n",
       "      <td>2132879</td>\n",
       "      <td>10113</td>\n",
       "      <td>2142992</td>\n",
       "      <td>136.260438</td>\n",
       "      <td>203.436271</td>\n",
       "      <td>35457273</td>\n",
       "    </tr>\n",
       "    <tr>\n",
       "      <th>Others</th>\n",
       "      <td>17</td>\n",
       "      <td>59.0</td>\n",
       "      <td>2634.0</td>\n",
       "      <td>15418558</td>\n",
       "      <td>64584</td>\n",
       "      <td>15483142</td>\n",
       "      <td>919.374538</td>\n",
       "      <td>1435.224854</td>\n",
       "      <td>81731453</td>\n",
       "    </tr>\n",
       "    <tr>\n",
       "      <th>Post Graduate</th>\n",
       "      <td>135</td>\n",
       "      <td>704.0</td>\n",
       "      <td>26245.0</td>\n",
       "      <td>154921709</td>\n",
       "      <td>589919</td>\n",
       "      <td>155511628</td>\n",
       "      <td>9498.863122</td>\n",
       "      <td>13680.094366</td>\n",
       "      <td>827064908</td>\n",
       "    </tr>\n",
       "  </tbody>\n",
       "</table>\n",
       "</div>"
      ],
      "text/plain": [
       "                       WINNER  CRIMINAL CASES      AGE  GENERAL VOTES  \\\n",
       "EDUCATION                                                               \n",
       "10th Pass                  45           265.0  10330.0       51558437   \n",
       "12th Pass                  69           480.0  12807.0       69924422   \n",
       "5th Pass                    4            28.0   1429.0        4179312   \n",
       "8th Pass                   12            88.0   3923.0       14493505   \n",
       "Doctorate                  23            83.0   3963.0       22787263   \n",
       "Graduate                  132           930.0  23010.0      140928620   \n",
       "Graduate Professional      99           263.0  18307.0      107365982   \n",
       "Illiterate                  1             1.0    274.0         808061   \n",
       "Literate                    2            33.0   1563.0        3103177   \n",
       "Not Available               0             0.0   1003.0        2132879   \n",
       "Others                     17            59.0   2634.0       15418558   \n",
       "Post Graduate             135           704.0  26245.0      154921709   \n",
       "\n",
       "                       POSTAL VOTES  TOTAL VOTES  \\\n",
       "EDUCATION                                          \n",
       "10th Pass                    214375     51772812   \n",
       "12th Pass                    259554     70183976   \n",
       "5th Pass                      10263      4189575   \n",
       "8th Pass                      52421     14545926   \n",
       "Doctorate                     90382     22877645   \n",
       "Graduate                     527628    141456248   \n",
       "Graduate Professional        393609    107759591   \n",
       "Illiterate                     3267       811328   \n",
       "Literate                      13999      3117176   \n",
       "Not Available                 10113      2142992   \n",
       "Others                        64584     15483142   \n",
       "Post Graduate                589919    155511628   \n",
       "\n",
       "                       OVER TOTAL ELECTORS IN CONSTITUENCY  \\\n",
       "EDUCATION                                                    \n",
       "10th Pass                                      3122.287210   \n",
       "12th Pass                                      4142.400392   \n",
       "5th Pass                                        281.405993   \n",
       "8th Pass                                        849.553273   \n",
       "Doctorate                                      1356.035306   \n",
       "Graduate                                       8464.126013   \n",
       "Graduate Professional                          6518.316909   \n",
       "Illiterate                                       52.703600   \n",
       "Literate                                        169.035177   \n",
       "Not Available                                   136.260438   \n",
       "Others                                          919.374538   \n",
       "Post Graduate                                  9498.863122   \n",
       "\n",
       "                       OVER TOTAL VOTES POLLED IN CONSTITUENCY  TOTAL ELECTORS  \n",
       "EDUCATION                                                                       \n",
       "10th Pass                                          4558.599681       324651691  \n",
       "12th Pass                                          6188.182289       428828388  \n",
       "5th Pass                                            410.996779        45126163  \n",
       "8th Pass                                           1257.115643       130778515  \n",
       "Doctorate                                          2023.592968       122685208  \n",
       "Graduate                                          12379.296900       738915879  \n",
       "Graduate Professional                              9574.127962       554363053  \n",
       "Illiterate                                           77.167301         7463446  \n",
       "Literate                                            293.701219        53341560  \n",
       "Not Available                                       203.436271        35457273  \n",
       "Others                                             1435.224854        81731453  \n",
       "Post Graduate                                     13680.094366       827064908  "
      ]
     },
     "execution_count": 219,
     "metadata": {},
     "output_type": "execute_result"
    }
   ],
   "source": [
    "df_tmp"
   ]
  },
  {
   "cell_type": "markdown",
   "metadata": {},
   "source": [
    "#### EDUCATION V/s WINNING COUNT"
   ]
  },
  {
   "cell_type": "code",
   "execution_count": 224,
   "metadata": {},
   "outputs": [
    {
     "data": {
      "image/png": "[encoded data removed]",
      "text/plain": [
       "<Figure size 640x440 with 1 Axes>"
      ]
     },
     "metadata": {},
     "output_type": "display_data"
    }
   ],
   "source": [
    "fig, ax = plt.subplots()\n",
    "\n",
    "ax.barh(df_tmp.index, df_tmp['WINNER'])\n",
    "\n",
    "ax.set(xlabel = 'NO OF CANDIDATES WON',\n",
    "       ylabel = 'EDUCATION');"
   ]
  },
  {
   "cell_type": "code",
   "execution_count": 239,
   "metadata": {},
   "outputs": [
    {
     "data": {
      "text/plain": [
       "['bmh',\n",
       " 'classic',\n",
       " 'dark_background',\n",
       " 'fast',\n",
       " 'fivethirtyeight',\n",
       " 'ggplot',\n",
       " 'grayscale',\n",
       " 'seaborn-bright',\n",
       " 'seaborn-colorblind',\n",
       " 'seaborn-dark-palette',\n",
       " 'seaborn-dark',\n",
       " 'seaborn-darkgrid',\n",
       " 'seaborn-deep',\n",
       " 'seaborn-muted',\n",
       " 'seaborn-notebook',\n",
       " 'seaborn-paper',\n",
       " 'seaborn-pastel',\n",
       " 'seaborn-poster',\n",
       " 'seaborn-talk',\n",
       " 'seaborn-ticks',\n",
       " 'seaborn-white',\n",
       " 'seaborn-whitegrid',\n",
       " 'seaborn',\n",
       " 'Solarize_Light2',\n",
       " 'tableau-colorblind10',\n",
       " '_classic_test']"
      ]
     },
     "execution_count": 239,
     "metadata": {},
     "output_type": "execute_result"
    }
   ],
   "source": [
    "plt.style.available"
   ]
  },
  {
   "cell_type": "code",
   "execution_count": 251,
   "metadata": {},
   "outputs": [],
   "source": [
    "plt.style.use('seaborn-whitegrid')"
   ]
  },
  {
   "cell_type": "code",
   "execution_count": 246,
   "metadata": {},
   "outputs": [],
   "source": [
    "df_tmp = df.groupby(by='CATEGORY').sum()"
   ]
  },
  {
   "cell_type": "code",
   "execution_count": 276,
   "metadata": {},
   "outputs": [
    {
     "data": {
      "image/png": "[encoded data removed]",
      "text/plain": [
       "<Figure size 1000x400 with 2 Axes>"
      ]
     },
     "metadata": {},
     "output_type": "display_data"
    }
   ],
   "source": [
    "labels = {'General':399,'SC':85,'ST':45}\n",
    "fig, ax = plt.subplots(1,2,figsize=(12.5,5))\n",
    "\n",
    "ax[0].bar(df_tmp.index, df_tmp['CRIMINAL CASES'])\n",
    "ax[1].bar(df_tmp.index, df_tmp['WINNER'], color='salmon')\n",
    "\n",
    "ax[0].set(xlabel = 'CATEGORY',\n",
    "          ylabel = 'CRIMINAL CASES')\n",
    "\n",
    "ax[1].set(xlabel = 'CATEGORY',\n",
    "          ylabel = 'NUMBERS OF CADIDATES');"
   ]
  },
  {
   "cell_type": "code",
   "execution_count": 357,
   "metadata": {},
   "outputs": [],
   "source": [
    "ser = df['ASSETS'].str.replace('[Rs,\\nLacsCrore+ThuHundNilNtAvilbl` ]','').str.split('~')"
   ]
  },
  {
   "cell_type": "code",
   "execution_count": 358,
   "metadata": {},
   "outputs": [],
   "source": [
    "lst = []\n",
    "for i in ser:\n",
    "    lst.append(i)"
   ]
  },
  {
   "cell_type": "code",
   "execution_count": 359,
   "metadata": {},
   "outputs": [],
   "source": [
    "for i in range(len(lst)):\n",
    "    lst[i] = (lst[i][0])"
   ]
  },
  {
   "cell_type": "code",
   "execution_count": 360,
   "metadata": {},
   "outputs": [
    {
     "data": {
      "text/plain": [
       "1993"
      ]
     },
     "execution_count": 360,
     "metadata": {},
     "output_type": "execute_result"
    }
   ],
   "source": [
    "len(ser)"
   ]
  },
  {
   "cell_type": "code",
   "execution_count": 361,
   "metadata": {},
   "outputs": [
    {
     "data": {
      "text/plain": [
       "1993"
      ]
     },
     "execution_count": 361,
     "metadata": {},
     "output_type": "execute_result"
    }
   ],
   "source": [
    "len(lst)"
   ]
  },
  {
   "cell_type": "code",
   "execution_count": 364,
   "metadata": {},
   "outputs": [],
   "source": [
    "#df['ASSETS'] = lst"
   ]
  },
  {
   "cell_type": "code",
   "execution_count": 365,
   "metadata": {},
   "outputs": [
    {
     "data": {
      "text/plain": [
       "Int64Index([1523], dtype='int64')"
      ]
     },
     "execution_count": 365,
     "metadata": {},
     "output_type": "execute_result"
    }
   ],
   "source": [
    "df[df['ASSETS'] == ''].index"
   ]
  },
  {
   "cell_type": "code",
   "execution_count": 368,
   "metadata": {},
   "outputs": [],
   "source": [
    "#df.drop(index=[1523], inplace=True)"
   ]
  },
  {
   "cell_type": "code",
   "execution_count": 371,
   "metadata": {},
   "outputs": [],
   "source": [
    "#df['ASSETS'] = df['ASSETS'].astype(float)"
   ]
  },
  {
   "cell_type": "markdown",
   "metadata": {},
   "source": [
    "* We dropped few entries in order to convert `ASSETS` feature into numerical"
   ]
  },
  {
   "cell_type": "markdown",
   "metadata": {},
   "source": [
    "* We will perform similar operations on `LIABILITIES` column"
   ]
  },
  {
   "cell_type": "code",
   "execution_count": 373,
   "metadata": {},
   "outputs": [],
   "source": [
    "ser = df['LIABILITIES'].str.replace('[Rs,\\nILacs+CroreThuHundNtAvilbl ]','').str.split('~')"
   ]
  },
  {
   "cell_type": "code",
   "execution_count": 374,
   "metadata": {},
   "outputs": [],
   "source": [
    "lst = []\n",
    "for i in ser:\n",
    "    lst.append(i)"
   ]
  },
  {
   "cell_type": "code",
   "execution_count": 375,
   "metadata": {},
   "outputs": [],
   "source": [
    "#lst"
   ]
  },
  {
   "cell_type": "code",
   "execution_count": 376,
   "metadata": {},
   "outputs": [],
   "source": [
    "for i in range(len(lst)):\n",
    "    lst[i] = (lst[i][0])"
   ]
  },
  {
   "cell_type": "code",
   "execution_count": 352,
   "metadata": {},
   "outputs": [],
   "source": [
    "#lst"
   ]
  },
  {
   "cell_type": "code",
   "execution_count": 378,
   "metadata": {},
   "outputs": [],
   "source": [
    "#df['LIABILITIES'] = lst"
   ]
  },
  {
   "cell_type": "code",
   "execution_count": 379,
   "metadata": {},
   "outputs": [
    {
     "data": {
      "text/html": [
       "<div>\n",
       "<style scoped>\n",
       "    .dataframe tbody tr th:only-of-type {\n",
       "        vertical-align: middle;\n",
       "    }\n",
       "\n",
       "    .dataframe tbody tr th {\n",
       "        vertical-align: top;\n",
       "    }\n",
       "\n",
       "    .dataframe thead th {\n",
       "        text-align: right;\n",
       "    }\n",
       "</style>\n",
       "<table border=\"1\" class=\"dataframe\">\n",
       "  <thead>\n",
       "    <tr style=\"text-align: right;\">\n",
       "      <th></th>\n",
       "      <th>STATE</th>\n",
       "      <th>CONSTITUENCY</th>\n",
       "      <th>NAME</th>\n",
       "      <th>WINNER</th>\n",
       "      <th>PARTY</th>\n",
       "      <th>SYMBOL</th>\n",
       "      <th>GENDER</th>\n",
       "      <th>CRIMINAL CASES</th>\n",
       "      <th>AGE</th>\n",
       "      <th>CATEGORY</th>\n",
       "      <th>EDUCATION</th>\n",
       "      <th>ASSETS</th>\n",
       "      <th>LIABILITIES</th>\n",
       "      <th>GENERAL VOTES</th>\n",
       "      <th>POSTAL VOTES</th>\n",
       "      <th>TOTAL VOTES</th>\n",
       "      <th>OVER TOTAL ELECTORS IN CONSTITUENCY</th>\n",
       "      <th>OVER TOTAL VOTES POLLED IN CONSTITUENCY</th>\n",
       "      <th>TOTAL ELECTORS</th>\n",
       "    </tr>\n",
       "  </thead>\n",
       "  <tbody>\n",
       "    <tr>\n",
       "      <th>186</th>\n",
       "      <td>Assam</td>\n",
       "      <td>AUTONOMOUS DISTRICT</td>\n",
       "      <td>JONES INGTI KATHAR</td>\n",
       "      <td>0</td>\n",
       "      <td>IND</td>\n",
       "      <td>Battery Torch</td>\n",
       "      <td>MALE</td>\n",
       "      <td>0.0</td>\n",
       "      <td>68.0</td>\n",
       "      <td>ST</td>\n",
       "      <td>Post Graduate</td>\n",
       "      <td>610218.0</td>\n",
       "      <td></td>\n",
       "      <td>39425</td>\n",
       "      <td>158</td>\n",
       "      <td>39583</td>\n",
       "      <td>4.973082</td>\n",
       "      <td>6.406488</td>\n",
       "      <td>795945</td>\n",
       "    </tr>\n",
       "  </tbody>\n",
       "</table>\n",
       "</div>"
      ],
      "text/plain": [
       "     STATE         CONSTITUENCY                NAME  WINNER PARTY  \\\n",
       "186  Assam  AUTONOMOUS DISTRICT  JONES INGTI KATHAR       0   IND   \n",
       "\n",
       "            SYMBOL GENDER  CRIMINAL CASES   AGE CATEGORY      EDUCATION  \\\n",
       "186  Battery Torch   MALE             0.0  68.0       ST  Post Graduate   \n",
       "\n",
       "       ASSETS LIABILITIES  GENERAL VOTES  POSTAL VOTES  TOTAL VOTES  \\\n",
       "186  610218.0                      39425           158        39583   \n",
       "\n",
       "     OVER TOTAL ELECTORS IN CONSTITUENCY  \\\n",
       "186                             4.973082   \n",
       "\n",
       "     OVER TOTAL VOTES POLLED IN CONSTITUENCY  TOTAL ELECTORS  \n",
       "186                                 6.406488          795945  "
      ]
     },
     "execution_count": 379,
     "metadata": {},
     "output_type": "execute_result"
    }
   ],
   "source": [
    "df[df['LIABILITIES'] == '']"
   ]
  },
  {
   "cell_type": "code",
   "execution_count": 381,
   "metadata": {},
   "outputs": [],
   "source": [
    "#df.drop(index=186, inplace=True)"
   ]
  },
  {
   "cell_type": "code",
   "execution_count": 386,
   "metadata": {},
   "outputs": [],
   "source": [
    "#df['LIABILITIES'] = df['LIABILITIES'].astype(float)"
   ]
  },
  {
   "cell_type": "markdown",
   "metadata": {},
   "source": [
    "> As now both `ASSETS` & `LIABILITIES` are in numeric form we can perform analysis on it."
   ]
  },
  {
   "cell_type": "code",
   "execution_count": 437,
   "metadata": {},
   "outputs": [],
   "source": [
    "plt.style.use('seaborn-whitegrid')"
   ]
  },
  {
   "cell_type": "code",
   "execution_count": 422,
   "metadata": {},
   "outputs": [],
   "source": [
    "df_tmp = df.groupby(by='WINNER').mean()"
   ]
  },
  {
   "cell_type": "code",
   "execution_count": 428,
   "metadata": {},
   "outputs": [],
   "source": [
    "df_tmp['LIABILITIES'] = df_tmp['LIABILITIES']/1000"
   ]
  },
  {
   "cell_type": "code",
   "execution_count": 426,
   "metadata": {},
   "outputs": [],
   "source": [
    "df_tmp['ASSETS'] = df_tmp['ASSETS']/1000"
   ]
  },
  {
   "cell_type": "code",
   "execution_count": 429,
   "metadata": {},
   "outputs": [
    {
     "data": {
      "text/html": [
       "<div>\n",
       "<style scoped>\n",
       "    .dataframe tbody tr th:only-of-type {\n",
       "        vertical-align: middle;\n",
       "    }\n",
       "\n",
       "    .dataframe tbody tr th {\n",
       "        vertical-align: top;\n",
       "    }\n",
       "\n",
       "    .dataframe thead th {\n",
       "        text-align: right;\n",
       "    }\n",
       "</style>\n",
       "<table border=\"1\" class=\"dataframe\">\n",
       "  <thead>\n",
       "    <tr style=\"text-align: right;\">\n",
       "      <th></th>\n",
       "      <th>CRIMINAL CASES</th>\n",
       "      <th>AGE</th>\n",
       "      <th>ASSETS</th>\n",
       "      <th>LIABILITIES</th>\n",
       "      <th>GENERAL VOTES</th>\n",
       "      <th>POSTAL VOTES</th>\n",
       "      <th>TOTAL VOTES</th>\n",
       "      <th>OVER TOTAL ELECTORS IN CONSTITUENCY</th>\n",
       "      <th>OVER TOTAL VOTES POLLED IN CONSTITUENCY</th>\n",
       "      <th>TOTAL ELECTORS</th>\n",
       "    </tr>\n",
       "    <tr>\n",
       "      <th>WINNER</th>\n",
       "      <th></th>\n",
       "      <th></th>\n",
       "      <th></th>\n",
       "      <th></th>\n",
       "      <th></th>\n",
       "      <th></th>\n",
       "      <th></th>\n",
       "      <th></th>\n",
       "      <th></th>\n",
       "      <th></th>\n",
       "    </tr>\n",
       "  </thead>\n",
       "  <tbody>\n",
       "    <tr>\n",
       "      <th>0</th>\n",
       "      <td>1.311295</td>\n",
       "      <td>51.583333</td>\n",
       "      <td>105243.500209</td>\n",
       "      <td>14062.074909</td>\n",
       "      <td>183187.931129</td>\n",
       "      <td>607.331267</td>\n",
       "      <td>183795.262397</td>\n",
       "      <td>11.144879</td>\n",
       "      <td>16.268211</td>\n",
       "      <td>1.654582e+06</td>\n",
       "    </tr>\n",
       "    <tr>\n",
       "      <th>1</th>\n",
       "      <td>1.909091</td>\n",
       "      <td>54.441558</td>\n",
       "      <td>209424.415844</td>\n",
       "      <td>35953.624200</td>\n",
       "      <td>592460.847866</td>\n",
       "      <td>2481.823748</td>\n",
       "      <td>594942.671614</td>\n",
       "      <td>35.582162</td>\n",
       "      <td>52.391168</td>\n",
       "      <td>1.679446e+06</td>\n",
       "    </tr>\n",
       "  </tbody>\n",
       "</table>\n",
       "</div>"
      ],
      "text/plain": [
       "        CRIMINAL CASES        AGE         ASSETS   LIABILITIES  GENERAL VOTES  \\\n",
       "WINNER                                                                          \n",
       "0             1.311295  51.583333  105243.500209  14062.074909  183187.931129   \n",
       "1             1.909091  54.441558  209424.415844  35953.624200  592460.847866   \n",
       "\n",
       "        POSTAL VOTES    TOTAL VOTES  OVER TOTAL ELECTORS IN CONSTITUENCY  \\\n",
       "WINNER                                                                     \n",
       "0         607.331267  183795.262397                            11.144879   \n",
       "1        2481.823748  594942.671614                            35.582162   \n",
       "\n",
       "        OVER TOTAL VOTES POLLED IN CONSTITUENCY  TOTAL ELECTORS  \n",
       "WINNER                                                           \n",
       "0                                     16.268211    1.654582e+06  \n",
       "1                                     52.391168    1.679446e+06  "
      ]
     },
     "execution_count": 429,
     "metadata": {},
     "output_type": "execute_result"
    }
   ],
   "source": [
    "df_tmp"
   ]
  },
  {
   "cell_type": "code",
   "execution_count": 442,
   "metadata": {},
   "outputs": [
    {
     "data": {
      "text/plain": [
       "Text(0.5, 1.0, 'Mean Assets/Liabilities V/s Result')"
      ]
     },
     "execution_count": 442,
     "metadata": {},
     "output_type": "execute_result"
    },
    {
     "data": {
      "image/png": "[encoded data removed]",
      "text/plain": [
       "<Figure size 1200x400 with 2 Axes>"
      ]
     },
     "metadata": {},
     "output_type": "display_data"
    }
   ],
   "source": [
    "fig, ax = plt.subplots(1,2,figsize=(15,5))\n",
    "\n",
    "ax[0].bar(['LOST', 'WON'], df_tmp['ASSETS'], color='lightcoral')\n",
    "\n",
    "ax[1].bar(['LOST', 'WON'], df_tmp['LIABILITIES'], color='dodgerblue')\n",
    "\n",
    "ax[0].set(xlabel = 'RESULT',\n",
    "          ylabel = 'x1000 Rs')\n",
    "\n",
    "ax[1].set(xlabel = 'RESULT',\n",
    "          ylabel = 'x1000 Rs');\n",
    "\n",
    "plt.title('Mean Assets/Liabilities V/s Result')"
   ]
  },
  {
   "cell_type": "markdown",
   "metadata": {},
   "source": [
    "## Conclusion"
   ]
  },
  {
   "cell_type": "markdown",
   "metadata": {},
   "source": [
    "* Data in original form was partially usable. Following columns were object dtype which are converted into numeric dtype:\n",
    "    - ASSETS\n",
    "    - LIABILITIES\n",
    "    - CRIMINAL CASES.\n",
    "***\n",
    "\n",
    "* In this data we had NaN values which were due to NOTA option, these NaN values were dropped.\n",
    "***\n",
    "\n",
    "* Visuals has been created in order to obtain quick insights from not so easily readable data with the help of `Matplotlib`\n",
    "***\n",
    "\n",
    "* Data manipulation(Cleaning, dropping, converting) has been performed with the help of `Pandas`.\n",
    "***\n",
    "\n",
    "* As data analysis is an iterative process much more graphs and insights could have been created but for the essence of time and considering top features above insights has been created. While doing so data is converted into better condition in order to obtain valuable insights."
   ]
  }
 ],
 "metadata": {
  "kernelspec": {
   "display_name": "Python 3",
   "language": "python",
   "name": "python3"
  },
  "language_info": {
   "codemirror_mode": {
    "name": "ipython",
    "version": 3
   },
   "file_extension": ".py",
   "mimetype": "text/x-python",
   "name": "python",
   "nbconvert_exporter": "python",
   "pygments_lexer": "ipython3",
   "version": "3.7.6"
  }
 },
 "nbformat": 4,
 "nbformat_minor": 4
}
